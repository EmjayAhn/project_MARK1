{
 "cells": [
  {
   "cell_type": "markdown",
   "metadata": {},
   "source": [
    "# Scrapy"
   ]
  },
  {
   "cell_type": "code",
   "execution_count": 39,
   "metadata": {},
   "outputs": [],
   "source": [
    "import scrapy\n",
    "import requests\n",
    "from scrapy.http import TextResponse"
   ]
  },
  {
   "cell_type": "code",
   "execution_count": 94,
   "metadata": {},
   "outputs": [
    {
     "data": {
      "text/plain": [
       "<Response [200]>"
      ]
     },
     "execution_count": 94,
     "metadata": {},
     "output_type": "execute_result"
    }
   ],
   "source": [
    "req = requests.get(\"http://markinfo.co.kr/front/phtml/c1200_r.php?p=1&trademark_name=&classsification=&asign_product=&application_number=&register_number=&publication_number=&international_register_number=&application_date=&register_date=&publication_date=&priority_date=&international_register_date=&applicant_name=&agent_name=&vienna_cd=&reg_privilege_name=&similarity_code=G4503%2BN25004%2BN25005%2BN25006%2BN25007&application_date1=&application_date2=&abandonment=true&application=true&cancel=true&expiration=true&publication=true&refused=true&registration=true&withdrawal=true&trademark=true&service_mark=true&business_emblem=true&collective_mark=true&geo_org_mark=true&trademark_service_mark=true&cert_mark=true&geo_cert_mark=true&international_mark=true&character=true&figure=true&composition_character=true&figure_composition=true&fragrance=true&sound=true&color=true&color_mixed=true&dimension=true&hologram=true&invisible=true&motion=true&visual=true&act=search&expiration_all=&mark_upclass_cd=1&mark_subclass_cd=1&sort_spec=AD&desc_sort=true\")\n",
    "req"
   ]
  },
  {
   "cell_type": "code",
   "execution_count": 95,
   "metadata": {},
   "outputs": [],
   "source": [
    "response = TextResponse(req.url, body=req.text, encoding='utf-8')"
   ]
  },
  {
   "cell_type": "code",
   "execution_count": 96,
   "metadata": {},
   "outputs": [
    {
     "data": {
      "text/plain": [
       "[<Selector xpath='//*[@id=\"container\"]/ul' data='<ul class=\"mark-list02\">\\n\\t\\t\\t\\t\\t\\t<li>\\n\\t\\t\\t\\t'>,\n",
       " <Selector xpath='//*[@id=\"container\"]/ul' data='<ul class=\"mark-list02\">\\n\\t\\t\\t\\t\\t\\t<li>\\n\\t\\t\\t\\t'>,\n",
       " <Selector xpath='//*[@id=\"container\"]/ul' data='<ul class=\"mark-list02\">\\n\\t\\t\\t\\t\\t\\t<li>\\n\\t\\t\\t\\t'>,\n",
       " <Selector xpath='//*[@id=\"container\"]/ul' data='<ul class=\"mark-list02\">\\n\\t\\t\\t\\t\\t\\t<li>\\n\\t\\t\\t\\t'>,\n",
       " <Selector xpath='//*[@id=\"container\"]/ul' data='<ul class=\"mark-list02\">\\n\\t\\t\\t\\t\\t\\t<li>\\n\\t\\t\\t\\t'>,\n",
       " <Selector xpath='//*[@id=\"container\"]/ul' data='<ul class=\"mark-list02\">\\n\\t\\t\\t\\t\\t\\t<li>\\n\\t\\t\\t\\t'>,\n",
       " <Selector xpath='//*[@id=\"container\"]/ul' data='<ul class=\"mark-list02\">\\n\\t\\t\\t\\t\\t\\t<li>\\n\\t\\t\\t\\t'>]"
      ]
     },
     "execution_count": 96,
     "metadata": {},
     "output_type": "execute_result"
    }
   ],
   "source": [
    "trademarks = response.xpath('//*[@id=\"container\"]/ul')\n",
    "trademarks"
   ]
  },
  {
   "cell_type": "code",
   "execution_count": 82,
   "metadata": {},
   "outputs": [
    {
     "data": {
      "text/plain": [
       "[<Selector xpath='./li' data='<li>\\n\\t\\t\\t\\t\\t\\t\\t<a class=\"_link\" href=\"detai'>,\n",
       " <Selector xpath='./li' data='<li>\\n\\t\\t\\t\\t\\t\\t\\t<a class=\"_link\" href=\"detai'>,\n",
       " <Selector xpath='./li' data='<li>\\n\\t\\t\\t\\t\\t\\t\\t<a class=\"_link\" href=\"detai'>,\n",
       " <Selector xpath='./li' data='<li>\\n\\t\\t\\t\\t\\t\\t\\t<a class=\"_link\" href=\"detai'>,\n",
       " <Selector xpath='./li' data='<li>\\n\\t\\t\\t\\t\\t\\t\\t<a class=\"_link\" href=\"detai'>,\n",
       " <Selector xpath='./li' data='<li>\\n\\t\\t\\t\\t\\t\\t\\t<a class=\"_link\" href=\"detai'>,\n",
       " <Selector xpath='./li' data='<li>\\n\\t\\t\\t\\t\\t\\t\\t<a class=\"_link\" href=\"detai'>]"
      ]
     },
     "execution_count": 82,
     "metadata": {},
     "output_type": "execute_result"
    }
   ],
   "source": [
    "items_row = trademarks[0].xpath('./li')\n",
    "items_row"
   ]
  },
  {
   "cell_type": "code",
   "execution_count": 101,
   "metadata": {
    "scrolled": true
   },
   "outputs": [
    {
     "name": "stdout",
     "output_type": "stream",
     "text": [
      "2019.01.16\n",
      "출원\n",
      "박종학\n",
      "의류/신발/모자(25)\n",
      "2019.01.16\n",
      "출원\n",
      "노성현\n",
      "의류/신발/모자(25), 광고/도소매업(35)\n",
      "2019.01.16\n",
      "출원\n",
      "한세드림 주식회사\n",
      "의류/신발/모자(25)\n",
      "2019.01.16\n",
      "출원\n",
      "이동현\n",
      "가죽제품(18), 의류/신발/모자(25), 광고/도소매업(35)\n",
      "2019.01.16\n",
      "출원\n",
      "주식회사 영실업\n",
      "의류/신발/모자(25)\n",
      "2019.01.16\n",
      "출원\n",
      "주식회사 알바이오홀딩스\n",
      "의류/신발/모자(25)\n",
      "2019.01.16\n",
      "출원\n",
      "권용현\n",
      "가정용품/유리제품(21), 의류/신발/모자(25), 요식/호텔업(43)\n",
      "2019.01.16\n",
      "출원\n",
      "노성현\n",
      "의류/신발/모자(25), 광고/도소매업(35)\n",
      "2019.01.16\n",
      "출원\n",
      "노성현\n",
      "의류/신발/모자(25), 광고/도소매업(35)\n",
      "2019.01.16\n",
      "출원\n",
      "정영호\n",
      "의류/신발/모자(25)\n",
      "2019.01.16\n",
      "출원\n",
      "주식회사 코타그란데\n",
      "의류/신발/모자(25)\n",
      "2019.01.16\n",
      "출원\n",
      "황조연\n",
      "의류/신발/모자(25)\n",
      "2019.01.16\n",
      "출원\n",
      "정승모\n",
      "의류/신발/모자(25)\n",
      "2019.01.16\n",
      "출원\n",
      "방성근\n",
      "의류/신발/모자(25)\n",
      "2019.01.16\n",
      "출원\n",
      "김명조\n",
      "의류/신발/모자(25)\n",
      "2019.01.16\n",
      "출원\n",
      "주식회사 이랜드월드\n",
      "의류/신발/모자(25)\n",
      "2019.01.16\n",
      "출원\n",
      "주식회사 코타그란데\n",
      "의류/신발/모자(25)\n",
      "2019.01.16\n",
      "출원\n",
      "방성근\n",
      "의류/신발/모자(25)\n",
      "2019.01.16\n",
      "출원\n",
      "주식회사 호호당\n",
      "의류/신발/모자(25)\n",
      "2019.01.16\n",
      "출원\n",
      "주식회사 서정\n",
      "의류/신발/모자(25)\n",
      "2019.01.16\n",
      "출원\n",
      "김준환\n",
      "의류/신발/모자(25)\n",
      "2019.01.16\n",
      "출원\n",
      "(주)하우스젠\n",
      "의류/신발/모자(25)\n",
      "2019.01.16\n",
      "출원\n",
      "양 위지에\n",
      "의류/신발/모자(25)\n",
      "2019.01.16\n",
      "출원\n",
      "주식회사 서정\n",
      "의류/신발/모자(25)\n",
      "2019.01.16\n",
      "출원\n",
      "오프 화이트 엘엘씨\n",
      "화장품/세제(03), 광학/통신기기/SW(09), 가죽제품(18), 의류/신발/모자(25)\n",
      "2019.01.16\n",
      "출원\n",
      "노성현\n",
      "의류/신발/모자(25), 광고/도소매업(35)\n",
      "2019.01.16\n",
      "출원\n",
      "유상곤\n",
      "의료기기(10), 의류/신발/모자(25)\n",
      "2019.01.16\n",
      "출원\n",
      "권용현\n",
      "가정용품/유리제품(21), 의류/신발/모자(25), 요식/호텔업(43)\n",
      "2019.01.16\n",
      "출원\n",
      "권용현\n",
      "가정용품/유리제품(21), 의류/신발/모자(25), 요식/호텔업(43)\n",
      "2019.01.16\n",
      "출원\n",
      "주식회사 호호당\n",
      "의류/신발/모자(25)\n",
      "2019.01.16\n",
      "출원\n",
      "주식회사 영실업\n",
      "의류/신발/모자(25)\n",
      "2019.01.16\n",
      "출원\n",
      "(주)에스에프이노베이션\n",
      "의류/신발/모자(25)\n",
      "2019.01.16\n",
      "출원\n",
      "주식회사 파워풀엑스\n",
      "화장품/세제(03), 의약품류/위생제품(05), 의료기기(10), 종이/인쇄물(16), 의류/신..\n",
      "2019.01.15\n",
      "출원\n",
      "노상식\n",
      "가죽제품(18), 의류/신발/모자(25), 광고/도소매업(35)\n",
      "2019.01.15\n",
      "출원\n",
      "박순오\n",
      "의류/신발/모자(25)\n",
      "2019.01.15\n",
      "출원\n",
      "노상식\n",
      "가죽제품(18), 의류/신발/모자(25), 광고/도소매업(35)\n",
      "2019.01.15\n",
      "출원\n",
      "주식회사 바인\n",
      "의류/신발/모자(25)\n",
      "2019.01.15\n",
      "출원\n",
      "박종회\n",
      "의류/신발/모자(25)\n",
      "2019.01.15\n",
      "출원\n",
      "신동준\n",
      "의류/신발/모자(25)\n",
      "2019.01.15\n",
      "출원\n",
      "이정석\n",
      "의류/신발/모자(25)\n",
      "2019.01.15\n",
      "출원\n",
      "이선호\n",
      "의류/신발/모자(25)\n",
      "2019.01.15\n",
      "출원\n",
      "조세윤\n",
      "의류/신발/모자(25)\n",
      "2019.01.15\n",
      "출원\n",
      "주식회사 트라이본즈\n",
      "의류/신발/모자(25)\n",
      "2019.01.15\n",
      "출원\n",
      "구교민\n",
      "의류/신발/모자(25), 광고/도소매업(35)\n",
      "2019.01.15\n",
      "출원\n",
      "전국\n",
      "의류/신발/모자(25)\n",
      "2019.01.15\n",
      "출원\n",
      "박민선\n",
      "의류/신발/모자(25)\n",
      "2019.01.15\n",
      "출원\n",
      "이창준\n",
      "의류/신발/모자(25)\n",
      "2019.01.15\n",
      "출원\n",
      "오효선\n",
      "의류/신발/모자(25), 광고/도소매업(35)\n",
      "2019.01.15\n",
      "출원\n",
      "오승철\n",
      "의류/신발/모자(25)\n",
      "49\n"
     ]
    }
   ],
   "source": [
    "count = 0\n",
    "for trademark in trademarks:\n",
    "    items_row = trademark.xpath('./li')\n",
    "    for item in items_row:\n",
    "        date = item.xpath('./a/p[1]/text()')[0].extract().replace('\\n','').replace('\\t','')\n",
    "        status = item.xpath('./a/p[1]/span/text()')[0].extract().replace('\\n','').replace('\\t','')\n",
    "        name = item.xpath('./a/p[2]/text()')[0].extract().replace('\\n','').replace('\\t','')\n",
    "        item_class = item.xpath('./a/p[3]/text()')[0].extract().replace('\\n','').replace('\\t','')\n",
    "        count += 1\n",
    "        print(date)\n",
    "        print(status)\n",
    "        print(name)\n",
    "        print(item_class)\n",
    "print(count)"
   ]
  },
  {
   "cell_type": "code",
   "execution_count": 86,
   "metadata": {},
   "outputs": [
    {
     "data": {
      "text/plain": [
       "5249.938775510204"
      ]
     },
     "execution_count": 86,
     "metadata": {},
     "output_type": "execute_result"
    }
   ],
   "source": [
    "257247/49"
   ]
  },
  {
   "cell_type": "code",
   "execution_count": 91,
   "metadata": {},
   "outputs": [
    {
     "name": "stdout",
     "output_type": "stream",
     "text": [
      ".\r\n",
      "├── ProjectMARK1_plan.pdf\r\n",
      "├── Project_MARK1.ipynb\r\n",
      "├── crawling\r\n",
      "│   └── crawler\r\n",
      "│       ├── crawler\r\n",
      "│       │   ├── __init__.py\r\n",
      "│       │   ├── __pycache__\r\n",
      "│       │   │   ├── __init__.cpython-37.pyc\r\n",
      "│       │   │   ├── items.cpython-37.pyc\r\n",
      "│       │   │   └── settings.cpython-37.pyc\r\n",
      "│       │   ├── items.py\r\n",
      "│       │   ├── middlewares.py\r\n",
      "│       │   ├── pipelines.py\r\n",
      "│       │   ├── settings.py\r\n",
      "│       │   └── spiders\r\n",
      "│       │       ├── __init__.py\r\n",
      "│       │       ├── __pycache__\r\n",
      "│       │       │   ├── __init__.cpython-37.pyc\r\n",
      "│       │       │   └── spider.cpython-37.pyc\r\n",
      "│       │       └── spider.py\r\n",
      "│       ├── scrapy.cfg\r\n",
      "│       └── test.csv\r\n",
      "└── crawling_trademarks.ipynb\r\n",
      "\r\n",
      "6 directories, 17 files\r\n"
     ]
    }
   ],
   "source": [
    "!tree ."
   ]
  },
  {
   "cell_type": "code",
   "execution_count": 93,
   "metadata": {},
   "outputs": [
    {
     "ename": "EmptyDataError",
     "evalue": "No columns to parse from file",
     "output_type": "error",
     "traceback": [
      "\u001b[0;31m---------------------------------------------------------------------------\u001b[0m",
      "\u001b[0;31mEmptyDataError\u001b[0m                            Traceback (most recent call last)",
      "\u001b[0;32m<ipython-input-93-3ceb90bd27b6>\u001b[0m in \u001b[0;36m<module>\u001b[0;34m\u001b[0m\n\u001b[0;32m----> 1\u001b[0;31m \u001b[0mdf\u001b[0m \u001b[0;34m=\u001b[0m \u001b[0mpd\u001b[0m\u001b[0;34m.\u001b[0m\u001b[0mread_csv\u001b[0m\u001b[0;34m(\u001b[0m\u001b[0;34m'./crawling/crawler/test.csv'\u001b[0m\u001b[0;34m)\u001b[0m\u001b[0;34m\u001b[0m\u001b[0m\n\u001b[0m\u001b[1;32m      2\u001b[0m \u001b[0mdf\u001b[0m\u001b[0;34m\u001b[0m\u001b[0m\n",
      "\u001b[0;32m~/.pyenv/versions/3.7.0/envs/dss/lib/python3.7/site-packages/pandas/io/parsers.py\u001b[0m in \u001b[0;36mparser_f\u001b[0;34m(filepath_or_buffer, sep, delimiter, header, names, index_col, usecols, squeeze, prefix, mangle_dupe_cols, dtype, engine, converters, true_values, false_values, skipinitialspace, skiprows, nrows, na_values, keep_default_na, na_filter, verbose, skip_blank_lines, parse_dates, infer_datetime_format, keep_date_col, date_parser, dayfirst, iterator, chunksize, compression, thousands, decimal, lineterminator, quotechar, quoting, escapechar, comment, encoding, dialect, tupleize_cols, error_bad_lines, warn_bad_lines, skipfooter, doublequote, delim_whitespace, low_memory, memory_map, float_precision)\u001b[0m\n\u001b[1;32m    676\u001b[0m                     skip_blank_lines=skip_blank_lines)\n\u001b[1;32m    677\u001b[0m \u001b[0;34m\u001b[0m\u001b[0m\n\u001b[0;32m--> 678\u001b[0;31m         \u001b[0;32mreturn\u001b[0m \u001b[0m_read\u001b[0m\u001b[0;34m(\u001b[0m\u001b[0mfilepath_or_buffer\u001b[0m\u001b[0;34m,\u001b[0m \u001b[0mkwds\u001b[0m\u001b[0;34m)\u001b[0m\u001b[0;34m\u001b[0m\u001b[0m\n\u001b[0m\u001b[1;32m    679\u001b[0m \u001b[0;34m\u001b[0m\u001b[0m\n\u001b[1;32m    680\u001b[0m     \u001b[0mparser_f\u001b[0m\u001b[0;34m.\u001b[0m\u001b[0m__name__\u001b[0m \u001b[0;34m=\u001b[0m \u001b[0mname\u001b[0m\u001b[0;34m\u001b[0m\u001b[0m\n",
      "\u001b[0;32m~/.pyenv/versions/3.7.0/envs/dss/lib/python3.7/site-packages/pandas/io/parsers.py\u001b[0m in \u001b[0;36m_read\u001b[0;34m(filepath_or_buffer, kwds)\u001b[0m\n\u001b[1;32m    438\u001b[0m \u001b[0;34m\u001b[0m\u001b[0m\n\u001b[1;32m    439\u001b[0m     \u001b[0;31m# Create the parser.\u001b[0m\u001b[0;34m\u001b[0m\u001b[0;34m\u001b[0m\u001b[0m\n\u001b[0;32m--> 440\u001b[0;31m     \u001b[0mparser\u001b[0m \u001b[0;34m=\u001b[0m \u001b[0mTextFileReader\u001b[0m\u001b[0;34m(\u001b[0m\u001b[0mfilepath_or_buffer\u001b[0m\u001b[0;34m,\u001b[0m \u001b[0;34m**\u001b[0m\u001b[0mkwds\u001b[0m\u001b[0;34m)\u001b[0m\u001b[0;34m\u001b[0m\u001b[0m\n\u001b[0m\u001b[1;32m    441\u001b[0m \u001b[0;34m\u001b[0m\u001b[0m\n\u001b[1;32m    442\u001b[0m     \u001b[0;32mif\u001b[0m \u001b[0mchunksize\u001b[0m \u001b[0;32mor\u001b[0m \u001b[0miterator\u001b[0m\u001b[0;34m:\u001b[0m\u001b[0;34m\u001b[0m\u001b[0m\n",
      "\u001b[0;32m~/.pyenv/versions/3.7.0/envs/dss/lib/python3.7/site-packages/pandas/io/parsers.py\u001b[0m in \u001b[0;36m__init__\u001b[0;34m(self, f, engine, **kwds)\u001b[0m\n\u001b[1;32m    785\u001b[0m             \u001b[0mself\u001b[0m\u001b[0;34m.\u001b[0m\u001b[0moptions\u001b[0m\u001b[0;34m[\u001b[0m\u001b[0;34m'has_index_names'\u001b[0m\u001b[0;34m]\u001b[0m \u001b[0;34m=\u001b[0m \u001b[0mkwds\u001b[0m\u001b[0;34m[\u001b[0m\u001b[0;34m'has_index_names'\u001b[0m\u001b[0;34m]\u001b[0m\u001b[0;34m\u001b[0m\u001b[0m\n\u001b[1;32m    786\u001b[0m \u001b[0;34m\u001b[0m\u001b[0m\n\u001b[0;32m--> 787\u001b[0;31m         \u001b[0mself\u001b[0m\u001b[0;34m.\u001b[0m\u001b[0m_make_engine\u001b[0m\u001b[0;34m(\u001b[0m\u001b[0mself\u001b[0m\u001b[0;34m.\u001b[0m\u001b[0mengine\u001b[0m\u001b[0;34m)\u001b[0m\u001b[0;34m\u001b[0m\u001b[0m\n\u001b[0m\u001b[1;32m    788\u001b[0m \u001b[0;34m\u001b[0m\u001b[0m\n\u001b[1;32m    789\u001b[0m     \u001b[0;32mdef\u001b[0m \u001b[0mclose\u001b[0m\u001b[0;34m(\u001b[0m\u001b[0mself\u001b[0m\u001b[0;34m)\u001b[0m\u001b[0;34m:\u001b[0m\u001b[0;34m\u001b[0m\u001b[0m\n",
      "\u001b[0;32m~/.pyenv/versions/3.7.0/envs/dss/lib/python3.7/site-packages/pandas/io/parsers.py\u001b[0m in \u001b[0;36m_make_engine\u001b[0;34m(self, engine)\u001b[0m\n\u001b[1;32m   1012\u001b[0m     \u001b[0;32mdef\u001b[0m \u001b[0m_make_engine\u001b[0m\u001b[0;34m(\u001b[0m\u001b[0mself\u001b[0m\u001b[0;34m,\u001b[0m \u001b[0mengine\u001b[0m\u001b[0;34m=\u001b[0m\u001b[0;34m'c'\u001b[0m\u001b[0;34m)\u001b[0m\u001b[0;34m:\u001b[0m\u001b[0;34m\u001b[0m\u001b[0m\n\u001b[1;32m   1013\u001b[0m         \u001b[0;32mif\u001b[0m \u001b[0mengine\u001b[0m \u001b[0;34m==\u001b[0m \u001b[0;34m'c'\u001b[0m\u001b[0;34m:\u001b[0m\u001b[0;34m\u001b[0m\u001b[0m\n\u001b[0;32m-> 1014\u001b[0;31m             \u001b[0mself\u001b[0m\u001b[0;34m.\u001b[0m\u001b[0m_engine\u001b[0m \u001b[0;34m=\u001b[0m \u001b[0mCParserWrapper\u001b[0m\u001b[0;34m(\u001b[0m\u001b[0mself\u001b[0m\u001b[0;34m.\u001b[0m\u001b[0mf\u001b[0m\u001b[0;34m,\u001b[0m \u001b[0;34m**\u001b[0m\u001b[0mself\u001b[0m\u001b[0;34m.\u001b[0m\u001b[0moptions\u001b[0m\u001b[0;34m)\u001b[0m\u001b[0;34m\u001b[0m\u001b[0m\n\u001b[0m\u001b[1;32m   1015\u001b[0m         \u001b[0;32melse\u001b[0m\u001b[0;34m:\u001b[0m\u001b[0;34m\u001b[0m\u001b[0m\n\u001b[1;32m   1016\u001b[0m             \u001b[0;32mif\u001b[0m \u001b[0mengine\u001b[0m \u001b[0;34m==\u001b[0m \u001b[0;34m'python'\u001b[0m\u001b[0;34m:\u001b[0m\u001b[0;34m\u001b[0m\u001b[0m\n",
      "\u001b[0;32m~/.pyenv/versions/3.7.0/envs/dss/lib/python3.7/site-packages/pandas/io/parsers.py\u001b[0m in \u001b[0;36m__init__\u001b[0;34m(self, src, **kwds)\u001b[0m\n\u001b[1;32m   1706\u001b[0m         \u001b[0mkwds\u001b[0m\u001b[0;34m[\u001b[0m\u001b[0;34m'usecols'\u001b[0m\u001b[0;34m]\u001b[0m \u001b[0;34m=\u001b[0m \u001b[0mself\u001b[0m\u001b[0;34m.\u001b[0m\u001b[0musecols\u001b[0m\u001b[0;34m\u001b[0m\u001b[0m\n\u001b[1;32m   1707\u001b[0m \u001b[0;34m\u001b[0m\u001b[0m\n\u001b[0;32m-> 1708\u001b[0;31m         \u001b[0mself\u001b[0m\u001b[0;34m.\u001b[0m\u001b[0m_reader\u001b[0m \u001b[0;34m=\u001b[0m \u001b[0mparsers\u001b[0m\u001b[0;34m.\u001b[0m\u001b[0mTextReader\u001b[0m\u001b[0;34m(\u001b[0m\u001b[0msrc\u001b[0m\u001b[0;34m,\u001b[0m \u001b[0;34m**\u001b[0m\u001b[0mkwds\u001b[0m\u001b[0;34m)\u001b[0m\u001b[0;34m\u001b[0m\u001b[0m\n\u001b[0m\u001b[1;32m   1709\u001b[0m \u001b[0;34m\u001b[0m\u001b[0m\n\u001b[1;32m   1710\u001b[0m         \u001b[0mpassed_names\u001b[0m \u001b[0;34m=\u001b[0m \u001b[0mself\u001b[0m\u001b[0;34m.\u001b[0m\u001b[0mnames\u001b[0m \u001b[0;32mis\u001b[0m \u001b[0;32mNone\u001b[0m\u001b[0;34m\u001b[0m\u001b[0m\n",
      "\u001b[0;32mpandas/_libs/parsers.pyx\u001b[0m in \u001b[0;36mpandas._libs.parsers.TextReader.__cinit__\u001b[0;34m()\u001b[0m\n",
      "\u001b[0;31mEmptyDataError\u001b[0m: No columns to parse from file"
     ]
    }
   ],
   "source": [
    "df = pd.read_csv('./crawling/crawler/test.csv')\n",
    "df"
   ]
  },
  {
   "cell_type": "code",
   "execution_count": 102,
   "metadata": {},
   "outputs": [],
   "source": [
    "f = open('./test.txt', mode='wt', encoding='utf-8')\n",
    "f.write(\"minjae minjae\")\n",
    "f.close()"
   ]
  },
  {
   "cell_type": "code",
   "execution_count": null,
   "metadata": {},
   "outputs": [],
   "source": [
    "f = open('./test.txt', mode='wt', encoding='utf-8')\n",
    "f.write(\"lksjdflkajlkd\")\n",
    "f.close()"
   ]
  }
 ],
 "metadata": {
  "kernelspec": {
   "display_name": "Python 3",
   "language": "python",
   "name": "python3"
  },
  "language_info": {
   "codemirror_mode": {
    "name": "ipython",
    "version": 3
   },
   "file_extension": ".py",
   "mimetype": "text/x-python",
   "name": "python",
   "nbconvert_exporter": "python",
   "pygments_lexer": "ipython3",
   "version": "3.7.0"
  }
 },
 "nbformat": 4,
 "nbformat_minor": 2
}
